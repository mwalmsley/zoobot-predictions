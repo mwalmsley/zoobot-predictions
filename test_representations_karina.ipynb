{
 "cells": [
  {
   "cell_type": "code",
   "execution_count": 104,
   "metadata": {},
   "outputs": [],
   "source": [
    "import pandas as pd\n",
    "import matplotlib.pyplot as plt"
   ]
  },
  {
   "cell_type": "code",
   "execution_count": 105,
   "metadata": {},
   "outputs": [],
   "source": [
    "df = pd.read_parquet('/home/walml/repos/zoobot-predictions/data/euclid_karina/representations/convnext_nano_evo/representations_pca_20.parquet')\n",
    "max_components = 20\n",
    "pca_cols = [f'feat_pca_{i}' for i in range(max_components)]\n",
    "\n",
    "\n",
    "# df = pd.read_parquet('/home/walml/repos/zoobot-predictions/data/euclid_karina/representations/convnext_nano_evo/representations.parquet')\n",
    "# pca_cols = [f'feat_{i}' for i in range(100)]\n",
    "\n",
    "df = df[['id_str'] + pca_cols]"
   ]
  },
  {
   "cell_type": "code",
   "execution_count": 106,
   "metadata": {},
   "outputs": [
    {
     "data": {
      "text/html": [
       "<div>\n",
       "<style scoped>\n",
       "    .dataframe tbody tr th:only-of-type {\n",
       "        vertical-align: middle;\n",
       "    }\n",
       "\n",
       "    .dataframe tbody tr th {\n",
       "        vertical-align: top;\n",
       "    }\n",
       "\n",
       "    .dataframe thead th {\n",
       "        text-align: right;\n",
       "    }\n",
       "</style>\n",
       "<table border=\"1\" class=\"dataframe\">\n",
       "  <thead>\n",
       "    <tr style=\"text-align: right;\">\n",
       "      <th></th>\n",
       "      <th>id_str</th>\n",
       "      <th>feat_pca_0</th>\n",
       "      <th>feat_pca_1</th>\n",
       "      <th>feat_pca_2</th>\n",
       "      <th>feat_pca_3</th>\n",
       "      <th>feat_pca_4</th>\n",
       "      <th>feat_pca_5</th>\n",
       "      <th>feat_pca_6</th>\n",
       "      <th>feat_pca_7</th>\n",
       "      <th>feat_pca_8</th>\n",
       "      <th>...</th>\n",
       "      <th>feat_pca_10</th>\n",
       "      <th>feat_pca_11</th>\n",
       "      <th>feat_pca_12</th>\n",
       "      <th>feat_pca_13</th>\n",
       "      <th>feat_pca_14</th>\n",
       "      <th>feat_pca_15</th>\n",
       "      <th>feat_pca_16</th>\n",
       "      <th>feat_pca_17</th>\n",
       "      <th>feat_pca_18</th>\n",
       "      <th>feat_pca_19</th>\n",
       "    </tr>\n",
       "  </thead>\n",
       "  <tbody>\n",
       "    <tr>\n",
       "      <th>0</th>\n",
       "      <td>EUC_0342_DESI-sel</td>\n",
       "      <td>6.394430</td>\n",
       "      <td>-6.204380</td>\n",
       "      <td>-9.036237</td>\n",
       "      <td>2.310582</td>\n",
       "      <td>-6.270920</td>\n",
       "      <td>-5.924473</td>\n",
       "      <td>2.046276</td>\n",
       "      <td>-4.822285</td>\n",
       "      <td>2.522871</td>\n",
       "      <td>...</td>\n",
       "      <td>2.148692</td>\n",
       "      <td>-1.115477</td>\n",
       "      <td>-0.225682</td>\n",
       "      <td>0.928223</td>\n",
       "      <td>2.159402</td>\n",
       "      <td>-2.615739</td>\n",
       "      <td>2.809034</td>\n",
       "      <td>-0.190520</td>\n",
       "      <td>0.412836</td>\n",
       "      <td>0.010780</td>\n",
       "    </tr>\n",
       "    <tr>\n",
       "      <th>1</th>\n",
       "      <td>EUC_0348_DESI-sel</td>\n",
       "      <td>8.649072</td>\n",
       "      <td>0.438148</td>\n",
       "      <td>-7.491514</td>\n",
       "      <td>2.867835</td>\n",
       "      <td>-4.222080</td>\n",
       "      <td>-6.600177</td>\n",
       "      <td>-1.978871</td>\n",
       "      <td>-0.918318</td>\n",
       "      <td>3.587829</td>\n",
       "      <td>...</td>\n",
       "      <td>-0.133842</td>\n",
       "      <td>-0.373663</td>\n",
       "      <td>1.763108</td>\n",
       "      <td>1.135694</td>\n",
       "      <td>0.281274</td>\n",
       "      <td>-0.052049</td>\n",
       "      <td>0.583747</td>\n",
       "      <td>0.842282</td>\n",
       "      <td>2.051217</td>\n",
       "      <td>0.371916</td>\n",
       "    </tr>\n",
       "    <tr>\n",
       "      <th>2</th>\n",
       "      <td>EUC_0365_DESI-sel</td>\n",
       "      <td>6.940455</td>\n",
       "      <td>-6.355774</td>\n",
       "      <td>-9.189132</td>\n",
       "      <td>3.704689</td>\n",
       "      <td>-6.260857</td>\n",
       "      <td>-5.367515</td>\n",
       "      <td>3.065947</td>\n",
       "      <td>-3.689727</td>\n",
       "      <td>1.409074</td>\n",
       "      <td>...</td>\n",
       "      <td>1.428500</td>\n",
       "      <td>-1.568199</td>\n",
       "      <td>0.052393</td>\n",
       "      <td>0.674910</td>\n",
       "      <td>2.796742</td>\n",
       "      <td>-3.207047</td>\n",
       "      <td>3.117481</td>\n",
       "      <td>-0.159068</td>\n",
       "      <td>-0.330097</td>\n",
       "      <td>-0.750641</td>\n",
       "    </tr>\n",
       "    <tr>\n",
       "      <th>3</th>\n",
       "      <td>EUC_0373_DESI-sel</td>\n",
       "      <td>5.921712</td>\n",
       "      <td>-4.822716</td>\n",
       "      <td>-4.916797</td>\n",
       "      <td>2.809851</td>\n",
       "      <td>-5.112991</td>\n",
       "      <td>-4.241166</td>\n",
       "      <td>-2.030742</td>\n",
       "      <td>-2.669401</td>\n",
       "      <td>4.037790</td>\n",
       "      <td>...</td>\n",
       "      <td>2.103334</td>\n",
       "      <td>-2.293223</td>\n",
       "      <td>0.110725</td>\n",
       "      <td>0.627745</td>\n",
       "      <td>-1.108918</td>\n",
       "      <td>-1.503856</td>\n",
       "      <td>1.964563</td>\n",
       "      <td>0.319226</td>\n",
       "      <td>0.968524</td>\n",
       "      <td>0.546251</td>\n",
       "    </tr>\n",
       "    <tr>\n",
       "      <th>4</th>\n",
       "      <td>EUC_0374_DESI-sel</td>\n",
       "      <td>10.659456</td>\n",
       "      <td>-1.902497</td>\n",
       "      <td>-9.019006</td>\n",
       "      <td>4.011386</td>\n",
       "      <td>-4.002678</td>\n",
       "      <td>-5.739454</td>\n",
       "      <td>-0.033465</td>\n",
       "      <td>-2.785800</td>\n",
       "      <td>4.825481</td>\n",
       "      <td>...</td>\n",
       "      <td>1.373490</td>\n",
       "      <td>-1.830800</td>\n",
       "      <td>0.068596</td>\n",
       "      <td>2.163332</td>\n",
       "      <td>1.164595</td>\n",
       "      <td>0.739118</td>\n",
       "      <td>2.639563</td>\n",
       "      <td>2.037791</td>\n",
       "      <td>1.667535</td>\n",
       "      <td>0.158371</td>\n",
       "    </tr>\n",
       "    <tr>\n",
       "      <th>...</th>\n",
       "      <td>...</td>\n",
       "      <td>...</td>\n",
       "      <td>...</td>\n",
       "      <td>...</td>\n",
       "      <td>...</td>\n",
       "      <td>...</td>\n",
       "      <td>...</td>\n",
       "      <td>...</td>\n",
       "      <td>...</td>\n",
       "      <td>...</td>\n",
       "      <td>...</td>\n",
       "      <td>...</td>\n",
       "      <td>...</td>\n",
       "      <td>...</td>\n",
       "      <td>...</td>\n",
       "      <td>...</td>\n",
       "      <td>...</td>\n",
       "      <td>...</td>\n",
       "      <td>...</td>\n",
       "      <td>...</td>\n",
       "      <td>...</td>\n",
       "    </tr>\n",
       "    <tr>\n",
       "      <th>5226</th>\n",
       "      <td>EUC_6104_DESI-sel</td>\n",
       "      <td>9.155749</td>\n",
       "      <td>4.325822</td>\n",
       "      <td>0.194392</td>\n",
       "      <td>-1.457067</td>\n",
       "      <td>-1.232532</td>\n",
       "      <td>-1.155839</td>\n",
       "      <td>-3.330239</td>\n",
       "      <td>2.846071</td>\n",
       "      <td>0.755604</td>\n",
       "      <td>...</td>\n",
       "      <td>-0.643413</td>\n",
       "      <td>-2.367473</td>\n",
       "      <td>0.371303</td>\n",
       "      <td>2.055390</td>\n",
       "      <td>-0.358509</td>\n",
       "      <td>0.299653</td>\n",
       "      <td>-0.628777</td>\n",
       "      <td>0.385929</td>\n",
       "      <td>0.528050</td>\n",
       "      <td>-1.789277</td>\n",
       "    </tr>\n",
       "    <tr>\n",
       "      <th>5227</th>\n",
       "      <td>EUC_6111_DESI-sel</td>\n",
       "      <td>-5.659047</td>\n",
       "      <td>3.912574</td>\n",
       "      <td>6.081611</td>\n",
       "      <td>-0.131749</td>\n",
       "      <td>0.073957</td>\n",
       "      <td>-2.081729</td>\n",
       "      <td>0.143793</td>\n",
       "      <td>-1.411923</td>\n",
       "      <td>-1.195313</td>\n",
       "      <td>...</td>\n",
       "      <td>0.529036</td>\n",
       "      <td>0.117397</td>\n",
       "      <td>0.421553</td>\n",
       "      <td>1.223052</td>\n",
       "      <td>0.966973</td>\n",
       "      <td>-0.358456</td>\n",
       "      <td>0.378357</td>\n",
       "      <td>0.589997</td>\n",
       "      <td>0.448934</td>\n",
       "      <td>0.365553</td>\n",
       "    </tr>\n",
       "    <tr>\n",
       "      <th>5228</th>\n",
       "      <td>EUC_6112_DESI-sel</td>\n",
       "      <td>-11.615319</td>\n",
       "      <td>0.452914</td>\n",
       "      <td>2.190569</td>\n",
       "      <td>-3.115032</td>\n",
       "      <td>0.117400</td>\n",
       "      <td>-0.150142</td>\n",
       "      <td>0.421868</td>\n",
       "      <td>-0.617925</td>\n",
       "      <td>-1.110921</td>\n",
       "      <td>...</td>\n",
       "      <td>0.218434</td>\n",
       "      <td>-0.103071</td>\n",
       "      <td>1.068762</td>\n",
       "      <td>0.780286</td>\n",
       "      <td>1.431698</td>\n",
       "      <td>-0.823544</td>\n",
       "      <td>-0.520164</td>\n",
       "      <td>0.221535</td>\n",
       "      <td>0.848565</td>\n",
       "      <td>-0.491446</td>\n",
       "    </tr>\n",
       "    <tr>\n",
       "      <th>5229</th>\n",
       "      <td>EUC_6119_DESI-sel</td>\n",
       "      <td>-6.764426</td>\n",
       "      <td>2.968081</td>\n",
       "      <td>4.671320</td>\n",
       "      <td>-0.737403</td>\n",
       "      <td>2.271792</td>\n",
       "      <td>-4.383977</td>\n",
       "      <td>0.953788</td>\n",
       "      <td>-1.589395</td>\n",
       "      <td>-0.145762</td>\n",
       "      <td>...</td>\n",
       "      <td>-0.038424</td>\n",
       "      <td>-0.308185</td>\n",
       "      <td>0.496268</td>\n",
       "      <td>0.942431</td>\n",
       "      <td>0.774758</td>\n",
       "      <td>-1.008682</td>\n",
       "      <td>1.041598</td>\n",
       "      <td>0.026890</td>\n",
       "      <td>0.218145</td>\n",
       "      <td>-0.044309</td>\n",
       "    </tr>\n",
       "    <tr>\n",
       "      <th>5230</th>\n",
       "      <td>EUC_6121_DESI-sel</td>\n",
       "      <td>1.771054</td>\n",
       "      <td>-10.325746</td>\n",
       "      <td>-3.262985</td>\n",
       "      <td>-5.289279</td>\n",
       "      <td>-1.084887</td>\n",
       "      <td>0.816210</td>\n",
       "      <td>-0.829563</td>\n",
       "      <td>6.942816</td>\n",
       "      <td>-2.276451</td>\n",
       "      <td>...</td>\n",
       "      <td>1.636347</td>\n",
       "      <td>-1.640424</td>\n",
       "      <td>-1.353306</td>\n",
       "      <td>1.693489</td>\n",
       "      <td>0.080424</td>\n",
       "      <td>-0.745898</td>\n",
       "      <td>-0.016234</td>\n",
       "      <td>-0.813364</td>\n",
       "      <td>0.236594</td>\n",
       "      <td>-1.072711</td>\n",
       "    </tr>\n",
       "  </tbody>\n",
       "</table>\n",
       "<p>5231 rows × 21 columns</p>\n",
       "</div>"
      ],
      "text/plain": [
       "                 id_str  feat_pca_0  feat_pca_1  feat_pca_2  feat_pca_3  \\\n",
       "0     EUC_0342_DESI-sel    6.394430   -6.204380   -9.036237    2.310582   \n",
       "1     EUC_0348_DESI-sel    8.649072    0.438148   -7.491514    2.867835   \n",
       "2     EUC_0365_DESI-sel    6.940455   -6.355774   -9.189132    3.704689   \n",
       "3     EUC_0373_DESI-sel    5.921712   -4.822716   -4.916797    2.809851   \n",
       "4     EUC_0374_DESI-sel   10.659456   -1.902497   -9.019006    4.011386   \n",
       "...                 ...         ...         ...         ...         ...   \n",
       "5226  EUC_6104_DESI-sel    9.155749    4.325822    0.194392   -1.457067   \n",
       "5227  EUC_6111_DESI-sel   -5.659047    3.912574    6.081611   -0.131749   \n",
       "5228  EUC_6112_DESI-sel  -11.615319    0.452914    2.190569   -3.115032   \n",
       "5229  EUC_6119_DESI-sel   -6.764426    2.968081    4.671320   -0.737403   \n",
       "5230  EUC_6121_DESI-sel    1.771054  -10.325746   -3.262985   -5.289279   \n",
       "\n",
       "      feat_pca_4  feat_pca_5  feat_pca_6  feat_pca_7  feat_pca_8  ...  \\\n",
       "0      -6.270920   -5.924473    2.046276   -4.822285    2.522871  ...   \n",
       "1      -4.222080   -6.600177   -1.978871   -0.918318    3.587829  ...   \n",
       "2      -6.260857   -5.367515    3.065947   -3.689727    1.409074  ...   \n",
       "3      -5.112991   -4.241166   -2.030742   -2.669401    4.037790  ...   \n",
       "4      -4.002678   -5.739454   -0.033465   -2.785800    4.825481  ...   \n",
       "...          ...         ...         ...         ...         ...  ...   \n",
       "5226   -1.232532   -1.155839   -3.330239    2.846071    0.755604  ...   \n",
       "5227    0.073957   -2.081729    0.143793   -1.411923   -1.195313  ...   \n",
       "5228    0.117400   -0.150142    0.421868   -0.617925   -1.110921  ...   \n",
       "5229    2.271792   -4.383977    0.953788   -1.589395   -0.145762  ...   \n",
       "5230   -1.084887    0.816210   -0.829563    6.942816   -2.276451  ...   \n",
       "\n",
       "      feat_pca_10  feat_pca_11  feat_pca_12  feat_pca_13  feat_pca_14  \\\n",
       "0        2.148692    -1.115477    -0.225682     0.928223     2.159402   \n",
       "1       -0.133842    -0.373663     1.763108     1.135694     0.281274   \n",
       "2        1.428500    -1.568199     0.052393     0.674910     2.796742   \n",
       "3        2.103334    -2.293223     0.110725     0.627745    -1.108918   \n",
       "4        1.373490    -1.830800     0.068596     2.163332     1.164595   \n",
       "...           ...          ...          ...          ...          ...   \n",
       "5226    -0.643413    -2.367473     0.371303     2.055390    -0.358509   \n",
       "5227     0.529036     0.117397     0.421553     1.223052     0.966973   \n",
       "5228     0.218434    -0.103071     1.068762     0.780286     1.431698   \n",
       "5229    -0.038424    -0.308185     0.496268     0.942431     0.774758   \n",
       "5230     1.636347    -1.640424    -1.353306     1.693489     0.080424   \n",
       "\n",
       "      feat_pca_15  feat_pca_16  feat_pca_17  feat_pca_18  feat_pca_19  \n",
       "0       -2.615739     2.809034    -0.190520     0.412836     0.010780  \n",
       "1       -0.052049     0.583747     0.842282     2.051217     0.371916  \n",
       "2       -3.207047     3.117481    -0.159068    -0.330097    -0.750641  \n",
       "3       -1.503856     1.964563     0.319226     0.968524     0.546251  \n",
       "4        0.739118     2.639563     2.037791     1.667535     0.158371  \n",
       "...           ...          ...          ...          ...          ...  \n",
       "5226     0.299653    -0.628777     0.385929     0.528050    -1.789277  \n",
       "5227    -0.358456     0.378357     0.589997     0.448934     0.365553  \n",
       "5228    -0.823544    -0.520164     0.221535     0.848565    -0.491446  \n",
       "5229    -1.008682     1.041598     0.026890     0.218145    -0.044309  \n",
       "5230    -0.745898    -0.016234    -0.813364     0.236594    -1.072711  \n",
       "\n",
       "[5231 rows x 21 columns]"
      ]
     },
     "execution_count": 106,
     "metadata": {},
     "output_type": "execute_result"
    }
   ],
   "source": [
    "df"
   ]
  },
  {
   "cell_type": "code",
   "execution_count": null,
   "metadata": {},
   "outputs": [],
   "source": []
  },
  {
   "cell_type": "code",
   "execution_count": 107,
   "metadata": {},
   "outputs": [],
   "source": [
    "CATALOG_LOC = '/home/walml/repos/euclid-morphology/data/combined_karina_strong_lens_classifications_with_cutouts.csv'\n",
    "catalog = pd.read_csv(CATALOG_LOC)"
   ]
  },
  {
   "cell_type": "code",
   "execution_count": 108,
   "metadata": {},
   "outputs": [
    {
     "data": {
      "text/plain": [
       "5231"
      ]
     },
     "execution_count": 108,
     "metadata": {},
     "output_type": "execute_result"
    }
   ],
   "source": [
    "# catalog\n",
    "len(catalog)"
   ]
  },
  {
   "cell_type": "code",
   "execution_count": 109,
   "metadata": {},
   "outputs": [
    {
     "data": {
      "text/plain": [
       "5231"
      ]
     },
     "execution_count": 109,
     "metadata": {},
     "output_type": "execute_result"
    }
   ],
   "source": [
    "df = pd.merge(df, catalog, on='id_str', how='inner')\n",
    "len(df)"
   ]
  },
  {
   "cell_type": "code",
   "execution_count": 110,
   "metadata": {},
   "outputs": [
    {
     "data": {
      "text/plain": [
       "array(['s1_maybe_lens', 's1_confident_lens', 's1_empty', 's1_lrg',\n",
       "       's1_merger', 's1_other', 's1_ring', 's1_spiral', 's1_total_votes',\n",
       "       'id_str', 's1_maybe_lens_fraction', 's1_confident_lens_fraction',\n",
       "       's1_empty_fraction', 's1_lrg_fraction', 's1_merger_fraction',\n",
       "       's1_other_fraction', 's1_ring_fraction', 's1_spiral_fraction',\n",
       "       'target_ra', 'target_dec', 's2_maybe_lens', 's2_confident_lens',\n",
       "       's2_not_lens', 's2_total_votes', 's2_maybe_lens_fraction',\n",
       "       's2_confident_lens_fraction', 's2_not_lens_fraction',\n",
       "       'has_stage_2_votes', 'file_loc_vis', 'file_loc_y', 'file_loc_j',\n",
       "       'file_loc_h', 'has_file', 'file_loc', 'cutout_ready'], dtype=object)"
      ]
     },
     "execution_count": 110,
     "metadata": {},
     "output_type": "execute_result"
    }
   ],
   "source": [
    "catalog.columns.values"
   ]
  },
  {
   "cell_type": "code",
   "execution_count": 111,
   "metadata": {},
   "outputs": [],
   "source": [
    "df['s1_lens_fraction'] = df['s1_maybe_lens_fraction'] + df['s1_confident_lens_fraction']\n",
    "df['s2_lens_fraction'] = df['s2_maybe_lens_fraction'] + df['s2_confident_lens_fraction']"
   ]
  },
  {
   "cell_type": "code",
   "execution_count": 112,
   "metadata": {},
   "outputs": [
    {
     "data": {
      "image/png": "[encoded data removed]",
      "text/plain": [
       "<Figure size 640x480 with 1 Axes>"
      ]
     },
     "metadata": {},
     "output_type": "display_data"
    }
   ],
   "source": [
    "_ = plt.hist(df['s1_lrg_fraction'], bins=100)"
   ]
  },
  {
   "cell_type": "code",
   "execution_count": 113,
   "metadata": {},
   "outputs": [
    {
     "data": {
      "image/png": "[encoded data removed]",
      "text/plain": [
       "<Figure size 640x480 with 1 Axes>"
      ]
     },
     "metadata": {},
     "output_type": "display_data"
    }
   ],
   "source": [
    "_ = plt.hist(df['s2_lens_fraction'], bins=100)"
   ]
  },
  {
   "cell_type": "code",
   "execution_count": 114,
   "metadata": {},
   "outputs": [
    {
     "data": {
      "image/png": "[encoded data removed]",
      "text/plain": [
       "<Figure size 640x480 with 1 Axes>"
      ]
     },
     "metadata": {},
     "output_type": "display_data"
    }
   ],
   "source": [
    "_ = plt.hist(df['s1_spiral_fraction'], bins=100)"
   ]
  },
  {
   "cell_type": "code",
   "execution_count": 115,
   "metadata": {},
   "outputs": [
    {
     "data": {
      "image/png": "[encoded data removed]",
      "text/plain": [
       "<Figure size 640x480 with 1 Axes>"
      ]
     },
     "metadata": {},
     "output_type": "display_data"
    }
   ],
   "source": [
    "_ = plt.hist(df['s1_lrg_fraction'], bins=100)"
   ]
  },
  {
   "cell_type": "code",
   "execution_count": 117,
   "metadata": {},
   "outputs": [
    {
     "data": {
      "image/png": "[encoded data removed]",
      "text/plain": [
       "<Figure size 640x480 with 1 Axes>"
      ]
     },
     "metadata": {},
     "output_type": "display_data"
    }
   ],
   "source": [
    "_ = plt.hist(df['s2_lens_fraction'], bins=100)"
   ]
  },
  {
   "cell_type": "code",
   "execution_count": 118,
   "metadata": {},
   "outputs": [
    {
     "name": "stdout",
     "output_type": "stream",
     "text": [
      "178\n"
     ]
    },
    {
     "name": "stderr",
     "output_type": "stream",
     "text": [
      "/home/walml/miniforge3/envs/zoobot39_dev/lib/python3.9/site-packages/sklearn/base.py:1152: DataConversionWarning: A column-vector y was passed when a 1d array was expected. Please change the shape of y to (n_samples,), for example using ravel().\n",
      "  return fit_method(estimator, *args, **kwargs)\n"
     ]
    },
    {
     "data": {
      "text/plain": [
       "0.6666666666666666"
      ]
     },
     "execution_count": 118,
     "metadata": {},
     "output_type": "execute_result"
    }
   ],
   "source": [
    "from sklearn.ensemble import RandomForestRegressor, GradientBoostingRegressor, RandomForestClassifier\n",
    "from sklearn.model_selection import train_test_split\n",
    "\n",
    "# target_col = 's1_lens_fraction'\n",
    "# target_col = 's1_spiral_fraction'\n",
    "# target_col = 's1_lrg_fraction'\n",
    "target_col = 's2_lens_fraction'\n",
    "\n",
    "df_s = df.dropna(subset=[target_col])\n",
    "print(len(df_s))\n",
    "\n",
    "X = df_s[pca_cols].values\n",
    "y = df_s[target_col].values.reshape(-1, 1) > 0.1\n",
    "\n",
    "X_train, X_test, y_train, y_test = train_test_split(X, y, test_size=0.2, random_state=42)\n",
    "\n",
    "# model = GradientBoostingRegressor()\n",
    "# model = RandomForestRegressor()\n",
    "model = RandomForestClassifier()\n",
    "model.fit(X_train, y_train)\n",
    "\n",
    "model.score(X_test, y_test)\n",
    "\n"
   ]
  },
  {
   "cell_type": "code",
   "execution_count": 119,
   "metadata": {},
   "outputs": [
    {
     "data": {
      "text/plain": [
       "36"
      ]
     },
     "execution_count": 119,
     "metadata": {},
     "output_type": "execute_result"
    }
   ],
   "source": [
    "len(y_test)"
   ]
  },
  {
   "cell_type": "code",
   "execution_count": 120,
   "metadata": {},
   "outputs": [
    {
     "data": {
      "text/plain": [
       "array([[10,  6],\n",
       "       [ 6, 14]])"
      ]
     },
     "execution_count": 120,
     "metadata": {},
     "output_type": "execute_result"
    }
   ],
   "source": [
    "from sklearn.metrics import confusion_matrix\n",
    "\n",
    "y_pred = model.predict(X_test)\n",
    "\n",
    "confusion_matrix(y_test, y_pred)"
   ]
  },
  {
   "cell_type": "code",
   "execution_count": 121,
   "metadata": {},
   "outputs": [],
   "source": [
    "# plt.scatter(y_test, model.predict(X_test))"
   ]
  },
  {
   "cell_type": "code",
   "execution_count": 122,
   "metadata": {},
   "outputs": [
    {
     "data": {
      "text/plain": [
       "array([[ 12.50835019, -11.28355773,  -1.96002613,  -3.25751173,\n",
       "          0.0426256 ],\n",
       "       [ -2.96017477,  -0.77093312,  -2.05143477,   8.20962422,\n",
       "          2.6521359 ],\n",
       "       [  2.5169355 ,   1.06502044,  -1.09103964,   5.46869965,\n",
       "         -0.65757813]])"
      ]
     },
     "execution_count": 122,
     "metadata": {},
     "output_type": "execute_result"
    }
   ],
   "source": [
    "X_train[:3, :5]"
   ]
  },
  {
   "cell_type": "code",
   "execution_count": 123,
   "metadata": {},
   "outputs": [],
   "source": [
    "from sklearn.dummy import DummyRegressor, DummyClassifier"
   ]
  },
  {
   "cell_type": "code",
   "execution_count": 124,
   "metadata": {},
   "outputs": [
    {
     "data": {
      "text/plain": [
       "0.5555555555555556"
      ]
     },
     "execution_count": 124,
     "metadata": {},
     "output_type": "execute_result"
    }
   ],
   "source": [
    "# model = DummyRegressor()\n",
    "model = DummyClassifier()\n",
    "model.fit(X_train, y_train)\n",
    "\n",
    "model.score(X_test, y_test)\n",
    "# coefficient of determination R^2 o"
   ]
  },
  {
   "cell_type": "code",
   "execution_count": 125,
   "metadata": {},
   "outputs": [
    {
     "data": {
      "text/plain": [
       "<matplotlib.collections.PathCollection at 0x7c61cacde700>"
      ]
     },
     "execution_count": 125,
     "metadata": {},
     "output_type": "execute_result"
    },
    {
     "data": {
      "image/png": "[encoded data removed]",
      "text/plain": [
       "<Figure size 640x480 with 1 Axes>"
      ]
     },
     "metadata": {},
     "output_type": "display_data"
    }
   ],
   "source": [
    "plt.scatter(y_test, model.predict(X_test))"
   ]
  },
  {
   "cell_type": "code",
   "execution_count": null,
   "metadata": {},
   "outputs": [],
   "source": []
  },
  {
   "cell_type": "code",
   "execution_count": 126,
   "metadata": {},
   "outputs": [
    {
     "data": {
      "text/plain": [
       "id_str                                                        EUC_0342_DESI-sel\n",
       "feat_pca_0                                                              6.39443\n",
       "feat_pca_1                                                             -6.20438\n",
       "feat_pca_2                                                            -9.036237\n",
       "feat_pca_3                                                             2.310582\n",
       "feat_pca_4                                                             -6.27092\n",
       "feat_pca_5                                                            -5.924473\n",
       "feat_pca_6                                                             2.046276\n",
       "feat_pca_7                                                            -4.822285\n",
       "feat_pca_8                                                             2.522871\n",
       "feat_pca_9                                                             0.999951\n",
       "feat_pca_10                                                            2.148692\n",
       "feat_pca_11                                                           -1.115477\n",
       "feat_pca_12                                                           -0.225682\n",
       "feat_pca_13                                                            0.928223\n",
       "feat_pca_14                                                            2.159402\n",
       "feat_pca_15                                                           -2.615739\n",
       "feat_pca_16                                                            2.809034\n",
       "feat_pca_17                                                            -0.19052\n",
       "feat_pca_18                                                            0.412836\n",
       "feat_pca_19                                                             0.01078\n",
       "s1_maybe_lens                                                                 0\n",
       "s1_confident_lens                                                             0\n",
       "s1_empty                                                                      0\n",
       "s1_lrg                                                                        0\n",
       "s1_merger                                                                     0\n",
       "s1_other                                                                      1\n",
       "s1_ring                                                                       0\n",
       "s1_spiral                                                                     4\n",
       "s1_total_votes                                                                5\n",
       "s1_maybe_lens_fraction                                                      0.0\n",
       "s1_confident_lens_fraction                                                  0.0\n",
       "s1_empty_fraction                                                           0.0\n",
       "s1_lrg_fraction                                                             0.0\n",
       "s1_merger_fraction                                                          0.0\n",
       "s1_other_fraction                                                           0.2\n",
       "s1_ring_fraction                                                            0.0\n",
       "s1_spiral_fraction                                                          0.8\n",
       "target_ra                                                            150.438411\n",
       "target_dec                                                              2.64307\n",
       "s2_maybe_lens                                                               NaN\n",
       "s2_confident_lens                                                           NaN\n",
       "s2_not_lens                                                                 NaN\n",
       "s2_total_votes                                                              NaN\n",
       "s2_maybe_lens_fraction                                                      NaN\n",
       "s2_confident_lens_fraction                                                  NaN\n",
       "s2_not_lens_fraction                                                        NaN\n",
       "has_stage_2_votes                                                         False\n",
       "file_loc_vis                  /home/walml/repos/euclid-morphology/data/Catal...\n",
       "file_loc_y                    /home/walml/repos/euclid-morphology/data/Catal...\n",
       "file_loc_j                    /home/walml/repos/euclid-morphology/data/Catal...\n",
       "file_loc_h                    /home/walml/repos/euclid-morphology/data/Catal...\n",
       "has_file                                                                   True\n",
       "file_loc                      /home/walml/repos/euclid-morphology/data/prepa...\n",
       "cutout_ready                                                               True\n",
       "s1_lens_fraction                                                            0.0\n",
       "s2_lens_fraction                                                            NaN\n",
       "Name: 0, dtype: object"
      ]
     },
     "execution_count": 126,
     "metadata": {},
     "output_type": "execute_result"
    }
   ],
   "source": [
    "df.iloc[0]"
   ]
  },
  {
   "cell_type": "code",
   "execution_count": 127,
   "metadata": {},
   "outputs": [],
   "source": [
    "df.to_csv('karina_representations_for_junbo_khalid.csv', index=False)"
   ]
  },
  {
   "cell_type": "code",
   "execution_count": null,
   "metadata": {},
   "outputs": [],
   "source": []
  }
 ],
 "metadata": {
  "kernelspec": {
   "display_name": "zoobot39_dev",
   "language": "python",
   "name": "python3"
  },
  "language_info": {
   "codemirror_mode": {
    "name": "ipython",
    "version": 3
   },
   "file_extension": ".py",
   "mimetype": "text/x-python",
   "name": "python",
   "nbconvert_exporter": "python",
   "pygments_lexer": "ipython3",
   "version": "3.9.0"
  }
 },
 "nbformat": 4,
 "nbformat_minor": 2
}
